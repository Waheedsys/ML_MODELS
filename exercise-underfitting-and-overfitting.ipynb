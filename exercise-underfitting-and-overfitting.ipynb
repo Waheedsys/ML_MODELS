{
 "cells": [
  {
   "cell_type": "markdown",
   "id": "01ae4e44",
   "metadata": {
    "papermill": {
     "duration": 0.004487,
     "end_time": "2024-07-02T12:55:48.316526",
     "exception": false,
     "start_time": "2024-07-02T12:55:48.312039",
     "status": "completed"
    },
    "tags": []
   },
   "source": [
    "**This notebook is an exercise in the [Introduction to Machine Learning](https://www.kaggle.com/learn/intro-to-machine-learning) course.  You can reference the tutorial at [this link](https://www.kaggle.com/dansbecker/underfitting-and-overfitting).**\n",
    "\n",
    "---\n"
   ]
  },
  {
   "cell_type": "markdown",
   "id": "44e53aa3",
   "metadata": {
    "papermill": {
     "duration": 0.003389,
     "end_time": "2024-07-02T12:55:48.323866",
     "exception": false,
     "start_time": "2024-07-02T12:55:48.320477",
     "status": "completed"
    },
    "tags": []
   },
   "source": [
    "## Recap\n",
    "You've built your first model, and now it's time to optimize the size of the tree to make better predictions. Run this cell to set up your coding environment where the previous step left off."
   ]
  },
  {
   "cell_type": "code",
   "execution_count": 1,
   "id": "385f453d",
   "metadata": {
    "execution": {
     "iopub.execute_input": "2024-07-02T12:55:48.332940Z",
     "iopub.status.busy": "2024-07-02T12:55:48.332544Z",
     "iopub.status.idle": "2024-07-02T12:55:50.889705Z",
     "shell.execute_reply": "2024-07-02T12:55:50.888283Z"
    },
    "papermill": {
     "duration": 2.564627,
     "end_time": "2024-07-02T12:55:50.892146",
     "exception": false,
     "start_time": "2024-07-02T12:55:48.327519",
     "status": "completed"
    },
    "tags": []
   },
   "outputs": [
    {
     "name": "stdout",
     "output_type": "stream",
     "text": [
      "Validation MAE: 29,653\n",
      "\n",
      "Setup complete\n"
     ]
    }
   ],
   "source": [
    "# Code you have previously used to load data\n",
    "import pandas as pd\n",
    "from sklearn.metrics import mean_absolute_error\n",
    "from sklearn.model_selection import train_test_split\n",
    "from sklearn.tree import DecisionTreeRegressor\n",
    "\n",
    "\n",
    "# Path of the file to read\n",
    "iowa_file_path = '../input/home-data-for-ml-course/train.csv'\n",
    "\n",
    "home_data = pd.read_csv(iowa_file_path)\n",
    "# Create target object and call it y\n",
    "y = home_data.SalePrice\n",
    "# Create X\n",
    "features = ['LotArea', 'YearBuilt', '1stFlrSF', '2ndFlrSF', 'FullBath', 'BedroomAbvGr', 'TotRmsAbvGrd']\n",
    "X = home_data[features]\n",
    "\n",
    "# Split into validation and training data\n",
    "train_X, val_X, train_y, val_y = train_test_split(X, y, random_state=1)\n",
    "\n",
    "# Specify Model\n",
    "iowa_model = DecisionTreeRegressor(random_state=1)\n",
    "# Fit Model\n",
    "iowa_model.fit(train_X, train_y)\n",
    "\n",
    "# Make validation predictions and calculate mean absolute error\n",
    "val_predictions = iowa_model.predict(val_X)\n",
    "val_mae = mean_absolute_error(val_predictions, val_y)\n",
    "print(\"Validation MAE: {:,.0f}\".format(val_mae))\n",
    "\n",
    "# Set up code checking\n",
    "from learntools.core import binder\n",
    "binder.bind(globals())\n",
    "from learntools.machine_learning.ex5 import *\n",
    "print(\"\\nSetup complete\")"
   ]
  },
  {
   "cell_type": "markdown",
   "id": "9c167556",
   "metadata": {
    "papermill": {
     "duration": 0.003322,
     "end_time": "2024-07-02T12:55:50.899269",
     "exception": false,
     "start_time": "2024-07-02T12:55:50.895947",
     "status": "completed"
    },
    "tags": []
   },
   "source": [
    "# Exercises\n",
    "You could write the function `get_mae` yourself. For now, we'll supply it. This is the same function you read about in the previous lesson. Just run the cell below."
   ]
  },
  {
   "cell_type": "code",
   "execution_count": 2,
   "id": "a7318f50",
   "metadata": {
    "execution": {
     "iopub.execute_input": "2024-07-02T12:55:50.909003Z",
     "iopub.status.busy": "2024-07-02T12:55:50.907977Z",
     "iopub.status.idle": "2024-07-02T12:55:50.914087Z",
     "shell.execute_reply": "2024-07-02T12:55:50.912846Z"
    },
    "papermill": {
     "duration": 0.013369,
     "end_time": "2024-07-02T12:55:50.916249",
     "exception": false,
     "start_time": "2024-07-02T12:55:50.902880",
     "status": "completed"
    },
    "tags": []
   },
   "outputs": [],
   "source": [
    "def get_mae(max_leaf_nodes, train_X, val_X, train_y, val_y):\n",
    "    model = DecisionTreeRegressor(max_leaf_nodes=max_leaf_nodes, random_state=0)\n",
    "    model.fit(train_X, train_y)\n",
    "    preds_val = model.predict(val_X)\n",
    "    mae = mean_absolute_error(val_y, preds_val)\n",
    "    return(mae)"
   ]
  },
  {
   "cell_type": "markdown",
   "id": "e42c843e",
   "metadata": {
    "papermill": {
     "duration": 0.003352,
     "end_time": "2024-07-02T12:55:50.923233",
     "exception": false,
     "start_time": "2024-07-02T12:55:50.919881",
     "status": "completed"
    },
    "tags": []
   },
   "source": [
    "## Step 1: Compare Different Tree Sizes\n",
    "Write a loop that tries the following values for *max_leaf_nodes* from a set of possible values.\n",
    "\n",
    "Call the *get_mae* function on each value of max_leaf_nodes. Store the output in some way that allows you to select the value of `max_leaf_nodes` that gives the most accurate model on your data."
   ]
  },
  {
   "cell_type": "code",
   "execution_count": 3,
   "id": "ecb25cb3",
   "metadata": {
    "execution": {
     "iopub.execute_input": "2024-07-02T12:55:50.933170Z",
     "iopub.status.busy": "2024-07-02T12:55:50.931786Z",
     "iopub.status.idle": "2024-07-02T12:55:50.985297Z",
     "shell.execute_reply": "2024-07-02T12:55:50.984119Z"
    },
    "papermill": {
     "duration": 0.060753,
     "end_time": "2024-07-02T12:55:50.987679",
     "exception": false,
     "start_time": "2024-07-02T12:55:50.926926",
     "status": "completed"
    },
    "tags": []
   },
   "outputs": [
    {
     "data": {
      "application/javascript": [
       "parent.postMessage({\"jupyterEvent\": \"custom.exercise_interaction\", \"data\": {\"outcomeType\": 1, \"valueTowardsCompletion\": 0.5, \"interactionType\": 1, \"questionType\": 1, \"questionId\": \"1_BestTreeSize\", \"learnToolsVersion\": \"0.3.4\", \"failureMessage\": \"\", \"exceptionClass\": \"\", \"trace\": \"\"}}, \"*\")"
      ],
      "text/plain": [
       "<IPython.core.display.Javascript object>"
      ]
     },
     "metadata": {},
     "output_type": "display_data"
    },
    {
     "data": {
      "text/markdown": [
       "<span style=\"color:#33cc33\">Correct</span>"
      ],
      "text/plain": [
       "Correct"
      ]
     },
     "metadata": {},
     "output_type": "display_data"
    }
   ],
   "source": [
    "candidate_max_leaf_nodes = [5, 25, 50, 100, 250, 500]\n",
    "# Write loop to find the ideal tree size from candidate_max_leaf_nodes\n",
    "\n",
    "score = {leaf_size: get_mae(leaf_size, train_X,val_X,train_y,val_y) for leaf_size in candidate_max_leaf_nodes}\n",
    "\n",
    "# Store the best value of max_leaf_nodes (it will be either 5, 25, 50, 100, 250 or 500)\n",
    "best_tree_size = min(score, key=score.get)\n",
    "\n",
    "# Check your answer\n",
    "step_1.check()"
   ]
  },
  {
   "cell_type": "code",
   "execution_count": 4,
   "id": "26052c65",
   "metadata": {
    "execution": {
     "iopub.execute_input": "2024-07-02T12:55:50.997873Z",
     "iopub.status.busy": "2024-07-02T12:55:50.996937Z",
     "iopub.status.idle": "2024-07-02T12:55:51.002177Z",
     "shell.execute_reply": "2024-07-02T12:55:51.000797Z"
    },
    "papermill": {
     "duration": 0.012858,
     "end_time": "2024-07-02T12:55:51.004627",
     "exception": false,
     "start_time": "2024-07-02T12:55:50.991769",
     "status": "completed"
    },
    "tags": []
   },
   "outputs": [],
   "source": [
    "# The lines below will show you a hint or the solution.\n",
    "#step_1.hint() \n",
    "#step_1.solution()"
   ]
  },
  {
   "cell_type": "markdown",
   "id": "6cc3d259",
   "metadata": {
    "papermill": {
     "duration": 0.003728,
     "end_time": "2024-07-02T12:55:51.012393",
     "exception": false,
     "start_time": "2024-07-02T12:55:51.008665",
     "status": "completed"
    },
    "tags": []
   },
   "source": [
    "## Step 2: Fit Model Using All Data\n",
    "You know the best tree size. If you were going to deploy this model in practice, you would make it even more accurate by using all of the data and keeping that tree size.  That is, you don't need to hold out the validation data now that you've made all your modeling decisions."
   ]
  },
  {
   "cell_type": "code",
   "execution_count": 5,
   "id": "b21ae44f",
   "metadata": {
    "execution": {
     "iopub.execute_input": "2024-07-02T12:55:51.021885Z",
     "iopub.status.busy": "2024-07-02T12:55:51.021475Z",
     "iopub.status.idle": "2024-07-02T12:55:51.040797Z",
     "shell.execute_reply": "2024-07-02T12:55:51.039127Z"
    },
    "papermill": {
     "duration": 0.027176,
     "end_time": "2024-07-02T12:55:51.043487",
     "exception": false,
     "start_time": "2024-07-02T12:55:51.016311",
     "status": "completed"
    },
    "tags": []
   },
   "outputs": [
    {
     "data": {
      "application/javascript": [
       "parent.postMessage({\"jupyterEvent\": \"custom.exercise_interaction\", \"data\": {\"outcomeType\": 1, \"valueTowardsCompletion\": 0.5, \"interactionType\": 1, \"questionType\": 2, \"questionId\": \"2_FitModelWithAllData\", \"learnToolsVersion\": \"0.3.4\", \"failureMessage\": \"\", \"exceptionClass\": \"\", \"trace\": \"\"}}, \"*\")"
      ],
      "text/plain": [
       "<IPython.core.display.Javascript object>"
      ]
     },
     "metadata": {},
     "output_type": "display_data"
    },
    {
     "data": {
      "text/markdown": [
       "<span style=\"color:#33cc33\">Correct</span>"
      ],
      "text/plain": [
       "Correct"
      ]
     },
     "metadata": {},
     "output_type": "display_data"
    }
   ],
   "source": [
    "# Fill in argument to make optimal size and uncomment\n",
    "final_model = DecisionTreeRegressor(max_leaf_nodes = best_tree_size, random_state=1)\n",
    "\n",
    "# fit the final model and uncomment the next two lines\n",
    "final_model.fit(X, y)\n",
    "\n",
    "# Check your answer\n",
    "step_2.check()"
   ]
  },
  {
   "cell_type": "code",
   "execution_count": 6,
   "id": "51705936",
   "metadata": {
    "execution": {
     "iopub.execute_input": "2024-07-02T12:55:51.054269Z",
     "iopub.status.busy": "2024-07-02T12:55:51.053769Z",
     "iopub.status.idle": "2024-07-02T12:55:51.059535Z",
     "shell.execute_reply": "2024-07-02T12:55:51.058113Z"
    },
    "papermill": {
     "duration": 0.014115,
     "end_time": "2024-07-02T12:55:51.061929",
     "exception": false,
     "start_time": "2024-07-02T12:55:51.047814",
     "status": "completed"
    },
    "tags": []
   },
   "outputs": [],
   "source": [
    "# step_2.hint()\n",
    "#step_2.solution()"
   ]
  },
  {
   "cell_type": "markdown",
   "id": "bd0a0efc",
   "metadata": {
    "papermill": {
     "duration": 0.003957,
     "end_time": "2024-07-02T12:55:51.070410",
     "exception": false,
     "start_time": "2024-07-02T12:55:51.066453",
     "status": "completed"
    },
    "tags": []
   },
   "source": [
    "You've tuned this model and improved your results. But we are still using Decision Tree models, which are not very sophisticated by modern machine learning standards. In the next step you will learn to use Random Forests to improve your models even more.\n",
    "\n",
    "# Keep Going\n",
    "\n",
    "You are ready for **[Random Forests](https://www.kaggle.com/dansbecker/random-forests).**\n"
   ]
  },
  {
   "cell_type": "markdown",
   "id": "7e208861",
   "metadata": {
    "papermill": {
     "duration": 0.003886,
     "end_time": "2024-07-02T12:55:51.078535",
     "exception": false,
     "start_time": "2024-07-02T12:55:51.074649",
     "status": "completed"
    },
    "tags": []
   },
   "source": [
    "---\n",
    "\n",
    "\n",
    "\n",
    "\n",
    "*Have questions or comments? Visit the [course discussion forum](https://www.kaggle.com/learn/intro-to-machine-learning/discussion) to chat with other learners.*"
   ]
  }
 ],
 "metadata": {
  "kaggle": {
   "accelerator": "none",
   "dataSources": [
    {
     "databundleVersionId": 111096,
     "sourceId": 10211,
     "sourceType": "competition"
    },
    {
     "datasetId": 11167,
     "sourceId": 15520,
     "sourceType": "datasetVersion"
    },
    {
     "datasetId": 2709,
     "sourceId": 38454,
     "sourceType": "datasetVersion"
    }
   ],
   "isGpuEnabled": false,
   "isInternetEnabled": false,
   "language": "python",
   "sourceType": "notebook"
  },
  "kernelspec": {
   "display_name": "Python 3",
   "language": "python",
   "name": "python3"
  },
  "language_info": {
   "codemirror_mode": {
    "name": "ipython",
    "version": 3
   },
   "file_extension": ".py",
   "mimetype": "text/x-python",
   "name": "python",
   "nbconvert_exporter": "python",
   "pygments_lexer": "ipython3",
   "version": "3.10.13"
  },
  "papermill": {
   "default_parameters": {},
   "duration": 6.271596,
   "end_time": "2024-07-02T12:55:51.703727",
   "environment_variables": {},
   "exception": null,
   "input_path": "__notebook__.ipynb",
   "output_path": "__notebook__.ipynb",
   "parameters": {},
   "start_time": "2024-07-02T12:55:45.432131",
   "version": "2.5.0"
  }
 },
 "nbformat": 4,
 "nbformat_minor": 5
}
