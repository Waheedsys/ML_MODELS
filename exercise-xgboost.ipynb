{
 "cells": [
  {
   "cell_type": "markdown",
   "id": "56911f46",
   "metadata": {
    "papermill": {
     "duration": 0.005486,
     "end_time": "2024-07-12T08:22:03.498019",
     "exception": false,
     "start_time": "2024-07-12T08:22:03.492533",
     "status": "completed"
    },
    "tags": []
   },
   "source": [
    "**This notebook is an exercise in the [Intermediate Machine Learning](https://www.kaggle.com/learn/intermediate-machine-learning) course.  You can reference the tutorial at [this link](https://www.kaggle.com/alexisbcook/xgboost).**\n",
    "\n",
    "---\n"
   ]
  },
  {
   "cell_type": "markdown",
   "id": "c6b2ddbd",
   "metadata": {
    "papermill": {
     "duration": 0.004455,
     "end_time": "2024-07-12T08:22:03.507627",
     "exception": false,
     "start_time": "2024-07-12T08:22:03.503172",
     "status": "completed"
    },
    "tags": []
   },
   "source": [
    "In this exercise, you will use your new knowledge to train a model with **gradient boosting**.\n",
    "\n",
    "# Setup\n",
    "\n",
    "The questions below will give you feedback on your work. Run the following cell to set up the feedback system."
   ]
  },
  {
   "cell_type": "code",
   "execution_count": 1,
   "id": "b6769bf8",
   "metadata": {
    "execution": {
     "iopub.execute_input": "2024-07-12T08:22:03.519330Z",
     "iopub.status.busy": "2024-07-12T08:22:03.518514Z",
     "iopub.status.idle": "2024-07-12T08:22:06.561249Z",
     "shell.execute_reply": "2024-07-12T08:22:06.559900Z"
    },
    "papermill": {
     "duration": 3.051723,
     "end_time": "2024-07-12T08:22:06.563976",
     "exception": false,
     "start_time": "2024-07-12T08:22:03.512253",
     "status": "completed"
    },
    "tags": []
   },
   "outputs": [
    {
     "name": "stdout",
     "output_type": "stream",
     "text": [
      "Setup Complete\n"
     ]
    }
   ],
   "source": [
    "# Set up code checking\n",
    "import os\n",
    "if not os.path.exists(\"../input/train.csv\"):\n",
    "    os.symlink(\"../input/home-data-for-ml-course/train.csv\", \"../input/train.csv\")  \n",
    "    os.symlink(\"../input/home-data-for-ml-course/test.csv\", \"../input/test.csv\") \n",
    "from learntools.core import binder\n",
    "binder.bind(globals())\n",
    "from learntools.ml_intermediate.ex6 import *\n",
    "print(\"Setup Complete\")"
   ]
  },
  {
   "cell_type": "markdown",
   "id": "15e6d7c8",
   "metadata": {
    "papermill": {
     "duration": 0.004468,
     "end_time": "2024-07-12T08:22:06.573491",
     "exception": false,
     "start_time": "2024-07-12T08:22:06.569023",
     "status": "completed"
    },
    "tags": []
   },
   "source": [
    "You will work with the [Housing Prices Competition for Kaggle Learn Users](https://www.kaggle.com/c/home-data-for-ml-course) dataset from the previous exercise. \n",
    "\n",
    "![Ames Housing dataset image](https://storage.googleapis.com/kaggle-media/learn/images/lTJVG4e.png)\n",
    "\n",
    "Run the next code cell without changes to load the training and validation sets in `X_train`, `X_valid`, `y_train`, and `y_valid`.  The test set is loaded in `X_test`."
   ]
  },
  {
   "cell_type": "code",
   "execution_count": 2,
   "id": "9576eb97",
   "metadata": {
    "execution": {
     "iopub.execute_input": "2024-07-12T08:22:06.584713Z",
     "iopub.status.busy": "2024-07-12T08:22:06.584303Z",
     "iopub.status.idle": "2024-07-12T08:22:06.746821Z",
     "shell.execute_reply": "2024-07-12T08:22:06.745800Z"
    },
    "papermill": {
     "duration": 0.170962,
     "end_time": "2024-07-12T08:22:06.749272",
     "exception": false,
     "start_time": "2024-07-12T08:22:06.578310",
     "status": "completed"
    },
    "tags": []
   },
   "outputs": [],
   "source": [
    "import pandas as pd\n",
    "from sklearn.model_selection import train_test_split\n",
    "\n",
    "# Read the data\n",
    "X = pd.read_csv('../input/train.csv', index_col='Id')\n",
    "X_test_full = pd.read_csv('../input/test.csv', index_col='Id')\n",
    "\n",
    "# Remove rows with missing target, separate target from predictors\n",
    "X.dropna(axis=0, subset=['SalePrice'], inplace=True)\n",
    "y = X.SalePrice              \n",
    "X.drop(['SalePrice'], axis=1, inplace=True)\n",
    "\n",
    "# Break off validation set from training data\n",
    "X_train_full, X_valid_full, y_train, y_valid = train_test_split(X, y, train_size=0.8, test_size=0.2,\n",
    "                                                                random_state=0)\n",
    "\n",
    "# \"Cardinality\" means the number of unique values in a column\n",
    "# Select categorical columns with relatively low cardinality (convenient but arbitrary)\n",
    "low_cardinality_cols = [cname for cname in X_train_full.columns if X_train_full[cname].nunique() < 10 and \n",
    "                        X_train_full[cname].dtype == \"object\"]\n",
    "\n",
    "# Select numeric columns\n",
    "numeric_cols = [cname for cname in X_train_full.columns if X_train_full[cname].dtype in ['int64', 'float64']]\n",
    "\n",
    "# Keep selected columns only\n",
    "my_cols = low_cardinality_cols + numeric_cols\n",
    "X_train = X_train_full[my_cols].copy()\n",
    "X_valid = X_valid_full[my_cols].copy()\n",
    "X_test = X_test_full[my_cols].copy()\n",
    "\n",
    "# One-hot encode the data (to shorten the code, we use pandas)\n",
    "X_train = pd.get_dummies(X_train)\n",
    "X_valid = pd.get_dummies(X_valid)\n",
    "X_test = pd.get_dummies(X_test)\n",
    "X_train, X_valid = X_train.align(X_valid, join='left', axis=1)\n",
    "X_train, X_test = X_train.align(X_test, join='left', axis=1)"
   ]
  },
  {
   "cell_type": "markdown",
   "id": "da91e6bd",
   "metadata": {
    "papermill": {
     "duration": 0.00445,
     "end_time": "2024-07-12T08:22:06.758627",
     "exception": false,
     "start_time": "2024-07-12T08:22:06.754177",
     "status": "completed"
    },
    "tags": []
   },
   "source": [
    "# Step 1: Build model\n",
    "\n",
    "### Part A\n",
    "\n",
    "In this step, you'll build and train your first model with gradient boosting.\n",
    "\n",
    "- Begin by setting `my_model_1` to an XGBoost model.  Use the [XGBRegressor](https://xgboost.readthedocs.io/en/latest/python/python_api.html#xgboost.XGBRegressor) class, and set the random seed to 0 (`random_state=0`).  **Leave all other parameters as default.**\n",
    "- Then, fit the model to the training data in `X_train` and `y_train`."
   ]
  },
  {
   "cell_type": "code",
   "execution_count": 3,
   "id": "580f8da6",
   "metadata": {
    "execution": {
     "iopub.execute_input": "2024-07-12T08:22:06.769625Z",
     "iopub.status.busy": "2024-07-12T08:22:06.769258Z",
     "iopub.status.idle": "2024-07-12T08:22:07.227098Z",
     "shell.execute_reply": "2024-07-12T08:22:07.226051Z"
    },
    "papermill": {
     "duration": 0.465997,
     "end_time": "2024-07-12T08:22:07.229333",
     "exception": false,
     "start_time": "2024-07-12T08:22:06.763336",
     "status": "completed"
    },
    "tags": []
   },
   "outputs": [
    {
     "data": {
      "application/javascript": [
       "parent.postMessage({\"jupyterEvent\": \"custom.exercise_interaction\", \"data\": {\"outcomeType\": 1, \"valueTowardsCompletion\": 0.5, \"interactionType\": 1, \"questionType\": 2, \"questionId\": \"1.1_Model1A\", \"learnToolsVersion\": \"0.3.4\", \"failureMessage\": \"\", \"exceptionClass\": \"\", \"trace\": \"\"}}, \"*\")"
      ],
      "text/plain": [
       "<IPython.core.display.Javascript object>"
      ]
     },
     "metadata": {},
     "output_type": "display_data"
    },
    {
     "data": {
      "text/markdown": [
       "<span style=\"color:#33cc33\">Correct</span>"
      ],
      "text/plain": [
       "Correct"
      ]
     },
     "metadata": {},
     "output_type": "display_data"
    }
   ],
   "source": [
    "from xgboost import XGBRegressor\n",
    "\n",
    "# Define the model\n",
    "my_model_1 =  XGBRegressor(random_state=0)\n",
    "\n",
    "# Fit the model\n",
    "my_model_1.fit(X_train, y_train)\n",
    "\n",
    "# Check your answer\n",
    "step_1.a.check()"
   ]
  },
  {
   "cell_type": "code",
   "execution_count": 4,
   "id": "fb5cb5fe",
   "metadata": {
    "execution": {
     "iopub.execute_input": "2024-07-12T08:22:07.242312Z",
     "iopub.status.busy": "2024-07-12T08:22:07.241365Z",
     "iopub.status.idle": "2024-07-12T08:22:07.246258Z",
     "shell.execute_reply": "2024-07-12T08:22:07.245203Z"
    },
    "papermill": {
     "duration": 0.013708,
     "end_time": "2024-07-12T08:22:07.248428",
     "exception": false,
     "start_time": "2024-07-12T08:22:07.234720",
     "status": "completed"
    },
    "tags": []
   },
   "outputs": [],
   "source": [
    "# Lines below will give you a hint or solution code\n",
    "#step_1.a.hint()\n",
    "#step_1.a.solution()"
   ]
  },
  {
   "cell_type": "markdown",
   "id": "6467a037",
   "metadata": {
    "papermill": {
     "duration": 0.005285,
     "end_time": "2024-07-12T08:22:07.259104",
     "exception": false,
     "start_time": "2024-07-12T08:22:07.253819",
     "status": "completed"
    },
    "tags": []
   },
   "source": [
    "### Part B\n",
    "\n",
    "Set `predictions_1` to the model's predictions for the validation data.  Recall that the validation features are stored in `X_valid`."
   ]
  },
  {
   "cell_type": "code",
   "execution_count": 5,
   "id": "bd32db2f",
   "metadata": {
    "execution": {
     "iopub.execute_input": "2024-07-12T08:22:07.271853Z",
     "iopub.status.busy": "2024-07-12T08:22:07.271431Z",
     "iopub.status.idle": "2024-07-12T08:22:07.312076Z",
     "shell.execute_reply": "2024-07-12T08:22:07.311200Z"
    },
    "papermill": {
     "duration": 0.05214,
     "end_time": "2024-07-12T08:22:07.316797",
     "exception": false,
     "start_time": "2024-07-12T08:22:07.264657",
     "status": "completed"
    },
    "tags": []
   },
   "outputs": [
    {
     "data": {
      "application/javascript": [
       "parent.postMessage({\"jupyterEvent\": \"custom.exercise_interaction\", \"data\": {\"outcomeType\": 1, \"valueTowardsCompletion\": 0.5, \"interactionType\": 1, \"questionType\": 2, \"questionId\": \"1.2_Model1B\", \"learnToolsVersion\": \"0.3.4\", \"failureMessage\": \"\", \"exceptionClass\": \"\", \"trace\": \"\"}}, \"*\")"
      ],
      "text/plain": [
       "<IPython.core.display.Javascript object>"
      ]
     },
     "metadata": {},
     "output_type": "display_data"
    },
    {
     "data": {
      "text/markdown": [
       "<span style=\"color:#33cc33\">Correct</span>"
      ],
      "text/plain": [
       "Correct"
      ]
     },
     "metadata": {},
     "output_type": "display_data"
    }
   ],
   "source": [
    "from sklearn.metrics import mean_absolute_error\n",
    "\n",
    "# Get predictions\n",
    "predictions_1 = my_model_1.predict(X_valid)\n",
    "\n",
    "# Check your answer\n",
    "step_1.b.check()"
   ]
  },
  {
   "cell_type": "code",
   "execution_count": 6,
   "id": "630ed568",
   "metadata": {
    "execution": {
     "iopub.execute_input": "2024-07-12T08:22:07.329171Z",
     "iopub.status.busy": "2024-07-12T08:22:07.328747Z",
     "iopub.status.idle": "2024-07-12T08:22:07.333412Z",
     "shell.execute_reply": "2024-07-12T08:22:07.332215Z"
    },
    "papermill": {
     "duration": 0.013528,
     "end_time": "2024-07-12T08:22:07.335613",
     "exception": false,
     "start_time": "2024-07-12T08:22:07.322085",
     "status": "completed"
    },
    "tags": []
   },
   "outputs": [],
   "source": [
    "# Lines below will give you a hint or solution code\n",
    "#step_1.b.hint()\n",
    "#step_1.b.solution()"
   ]
  },
  {
   "cell_type": "markdown",
   "id": "79831095",
   "metadata": {
    "papermill": {
     "duration": 0.005212,
     "end_time": "2024-07-12T08:22:07.346276",
     "exception": false,
     "start_time": "2024-07-12T08:22:07.341064",
     "status": "completed"
    },
    "tags": []
   },
   "source": [
    "### Part C\n",
    "\n",
    "Finally, use the `mean_absolute_error()` function to calculate the mean absolute error (MAE) corresponding to the predictions for the validation set.  Recall that the labels for the validation data are stored in `y_valid`."
   ]
  },
  {
   "cell_type": "code",
   "execution_count": 7,
   "id": "c518d8b4",
   "metadata": {
    "execution": {
     "iopub.execute_input": "2024-07-12T08:22:07.358950Z",
     "iopub.status.busy": "2024-07-12T08:22:07.358562Z",
     "iopub.status.idle": "2024-07-12T08:22:07.369114Z",
     "shell.execute_reply": "2024-07-12T08:22:07.368118Z"
    },
    "papermill": {
     "duration": 0.019676,
     "end_time": "2024-07-12T08:22:07.371301",
     "exception": false,
     "start_time": "2024-07-12T08:22:07.351625",
     "status": "completed"
    },
    "tags": []
   },
   "outputs": [
    {
     "name": "stdout",
     "output_type": "stream",
     "text": [
      "Mean Absolute Error: 18161.82412510702\n"
     ]
    },
    {
     "data": {
      "application/javascript": [
       "parent.postMessage({\"jupyterEvent\": \"custom.exercise_interaction\", \"data\": {\"outcomeType\": 1, \"valueTowardsCompletion\": 0.5, \"interactionType\": 1, \"questionType\": 2, \"questionId\": \"1.3_Model1C\", \"learnToolsVersion\": \"0.3.4\", \"failureMessage\": \"\", \"exceptionClass\": \"\", \"trace\": \"\"}}, \"*\")"
      ],
      "text/plain": [
       "<IPython.core.display.Javascript object>"
      ]
     },
     "metadata": {},
     "output_type": "display_data"
    },
    {
     "data": {
      "text/markdown": [
       "<span style=\"color:#33cc33\">Correct</span>"
      ],
      "text/plain": [
       "Correct"
      ]
     },
     "metadata": {},
     "output_type": "display_data"
    }
   ],
   "source": [
    "# Calculate MAE\n",
    "mae_1 = mean_absolute_error(predictions_1, y_valid)\n",
    "\n",
    "# Uncomment to print MAE\n",
    "print(\"Mean Absolute Error:\" , mae_1)\n",
    "\n",
    "# Check your answer\n",
    "step_1.c.check()"
   ]
  },
  {
   "cell_type": "code",
   "execution_count": 8,
   "id": "cc1b2ffb",
   "metadata": {
    "execution": {
     "iopub.execute_input": "2024-07-12T08:22:07.384753Z",
     "iopub.status.busy": "2024-07-12T08:22:07.383973Z",
     "iopub.status.idle": "2024-07-12T08:22:07.388379Z",
     "shell.execute_reply": "2024-07-12T08:22:07.387381Z"
    },
    "papermill": {
     "duration": 0.013406,
     "end_time": "2024-07-12T08:22:07.390496",
     "exception": false,
     "start_time": "2024-07-12T08:22:07.377090",
     "status": "completed"
    },
    "tags": []
   },
   "outputs": [],
   "source": [
    "# Lines below will give you a hint or solution code\n",
    "#step_1.c.hint()\n",
    "#step_1.c.solution()"
   ]
  },
  {
   "cell_type": "markdown",
   "id": "cc36b333",
   "metadata": {
    "papermill": {
     "duration": 0.005383,
     "end_time": "2024-07-12T08:22:07.401601",
     "exception": false,
     "start_time": "2024-07-12T08:22:07.396218",
     "status": "completed"
    },
    "tags": []
   },
   "source": [
    "# Step 2: Improve the model\n",
    "\n",
    "Now that you've trained a default model as baseline, it's time to tinker with the parameters, to see if you can get better performance!\n",
    "- Begin by setting `my_model_2` to an XGBoost model, using the [XGBRegressor](https://xgboost.readthedocs.io/en/latest/python/python_api.html#xgboost.XGBRegressor) class.  Use what you learned in the previous tutorial to figure out how to change the default parameters (like `n_estimators` and `learning_rate`) to get better results.\n",
    "- Then, fit the model to the training data in `X_train` and `y_train`.\n",
    "- Set `predictions_2` to the model's predictions for the validation data.  Recall that the validation features are stored in `X_valid`.\n",
    "- Finally, use the `mean_absolute_error()` function to calculate the mean absolute error (MAE) corresponding to the predictions on the validation set.  Recall that the labels for the validation data are stored in `y_valid`.\n",
    "\n",
    "In order for this step to be marked correct, your model in `my_model_2` must attain lower MAE than the model in `my_model_1`. "
   ]
  },
  {
   "cell_type": "code",
   "execution_count": 9,
   "id": "530b51ff",
   "metadata": {
    "execution": {
     "iopub.execute_input": "2024-07-12T08:22:07.415260Z",
     "iopub.status.busy": "2024-07-12T08:22:07.414872Z",
     "iopub.status.idle": "2024-07-12T08:22:11.709660Z",
     "shell.execute_reply": "2024-07-12T08:22:11.708540Z"
    },
    "papermill": {
     "duration": 4.303904,
     "end_time": "2024-07-12T08:22:11.711928",
     "exception": false,
     "start_time": "2024-07-12T08:22:07.408024",
     "status": "completed"
    },
    "tags": []
   },
   "outputs": [
    {
     "name": "stdout",
     "output_type": "stream",
     "text": [
      "Mean Absolute Error: 17079.305463398974\n"
     ]
    },
    {
     "data": {
      "application/javascript": [
       "parent.postMessage({\"jupyterEvent\": \"custom.exercise_interaction\", \"data\": {\"outcomeType\": 1, \"valueTowardsCompletion\": 0.5, \"interactionType\": 1, \"questionType\": 2, \"questionId\": \"2_Model2\", \"learnToolsVersion\": \"0.3.4\", \"failureMessage\": \"\", \"exceptionClass\": \"\", \"trace\": \"\"}}, \"*\")"
      ],
      "text/plain": [
       "<IPython.core.display.Javascript object>"
      ]
     },
     "metadata": {},
     "output_type": "display_data"
    },
    {
     "data": {
      "text/markdown": [
       "<span style=\"color:#33cc33\">Correct</span>"
      ],
      "text/plain": [
       "Correct"
      ]
     },
     "metadata": {},
     "output_type": "display_data"
    }
   ],
   "source": [
    "# Define the model\n",
    "my_model_2 = XGBRegressor(n_estimators=1000, learning_rate=0.01)\n",
    "\n",
    "# Fit the model\n",
    "my_model_2.fit(X_train,y_train)\n",
    "\n",
    "# Get predictions\n",
    "predictions_2 = my_model_2.predict(X_valid)\n",
    "\n",
    "# Calculate MAE\n",
    "mae_2 = mean_absolute_error(predictions_2, y_valid)\n",
    "\n",
    "# Uncomment to print MAE\n",
    "print(\"Mean Absolute Error:\" , mae_2)\n",
    "\n",
    "# Check your answer\n",
    "step_2.check()"
   ]
  },
  {
   "cell_type": "code",
   "execution_count": 10,
   "id": "ecb0a1ac",
   "metadata": {
    "execution": {
     "iopub.execute_input": "2024-07-12T08:22:11.726994Z",
     "iopub.status.busy": "2024-07-12T08:22:11.725851Z",
     "iopub.status.idle": "2024-07-12T08:22:11.730503Z",
     "shell.execute_reply": "2024-07-12T08:22:11.729536Z"
    },
    "papermill": {
     "duration": 0.014491,
     "end_time": "2024-07-12T08:22:11.732782",
     "exception": false,
     "start_time": "2024-07-12T08:22:11.718291",
     "status": "completed"
    },
    "tags": []
   },
   "outputs": [],
   "source": [
    "# Lines below will give you a hint or solution code\n",
    "#step_2.hint()\n",
    "#step_2.solution()"
   ]
  },
  {
   "cell_type": "markdown",
   "id": "2d5c4641",
   "metadata": {
    "papermill": {
     "duration": 0.005816,
     "end_time": "2024-07-12T08:22:11.744892",
     "exception": false,
     "start_time": "2024-07-12T08:22:11.739076",
     "status": "completed"
    },
    "tags": []
   },
   "source": [
    "# Step 3: Break the model\n",
    "\n",
    "In this step, you will create a model that performs worse than the original model in Step 1.  This will help you to develop your intuition for how to set parameters.  You might even find that you accidentally get better performance, which is ultimately a nice problem to have and a valuable learning experience!\n",
    "- Begin by setting `my_model_3` to an XGBoost model, using the [XGBRegressor](https://xgboost.readthedocs.io/en/latest/python/python_api.html#xgboost.XGBRegressor) class.  Use what you learned in the previous tutorial to figure out how to change the default parameters (like `n_estimators` and `learning_rate`) to design a model to get high MAE.\n",
    "- Then, fit the model to the training data in `X_train` and `y_train`.\n",
    "- Set `predictions_3` to the model's predictions for the validation data.  Recall that the validation features are stored in `X_valid`.\n",
    "- Finally, use the `mean_absolute_error()` function to calculate the mean absolute error (MAE) corresponding to the predictions on the validation set.  Recall that the labels for the validation data are stored in `y_valid`.\n",
    "\n",
    "In order for this step to be marked correct, your model in `my_model_3` must attain higher MAE than the model in `my_model_1`. "
   ]
  },
  {
   "cell_type": "code",
   "execution_count": 11,
   "id": "90a32405",
   "metadata": {
    "execution": {
     "iopub.execute_input": "2024-07-12T08:22:11.759253Z",
     "iopub.status.busy": "2024-07-12T08:22:11.758130Z",
     "iopub.status.idle": "2024-07-12T08:22:13.177667Z",
     "shell.execute_reply": "2024-07-12T08:22:13.176621Z"
    },
    "papermill": {
     "duration": 1.429071,
     "end_time": "2024-07-12T08:22:13.179931",
     "exception": false,
     "start_time": "2024-07-12T08:22:11.750860",
     "status": "completed"
    },
    "tags": []
   },
   "outputs": [
    {
     "name": "stdout",
     "output_type": "stream",
     "text": [
      "Mean Absolute Error: 28423.200944456337\n"
     ]
    },
    {
     "data": {
      "application/javascript": [
       "parent.postMessage({\"jupyterEvent\": \"custom.exercise_interaction\", \"data\": {\"outcomeType\": 1, \"valueTowardsCompletion\": 0.5, \"interactionType\": 1, \"questionType\": 2, \"questionId\": \"3_Model3\", \"learnToolsVersion\": \"0.3.4\", \"failureMessage\": \"\", \"exceptionClass\": \"\", \"trace\": \"\"}}, \"*\")"
      ],
      "text/plain": [
       "<IPython.core.display.Javascript object>"
      ]
     },
     "metadata": {},
     "output_type": "display_data"
    },
    {
     "data": {
      "text/markdown": [
       "<span style=\"color:#33cc33\">Correct</span>"
      ],
      "text/plain": [
       "Correct"
      ]
     },
     "metadata": {},
     "output_type": "display_data"
    }
   ],
   "source": [
    "# Define the model\n",
    "my_model_3 = XGBRegressor(n_estimators=500, learning_rate=1)\n",
    "\n",
    "# Fit the model\n",
    "my_model_3.fit(X_train, y_train)\n",
    "\n",
    "# Get predictions\n",
    "predictions_3 = my_model_3.predict(X_valid)\n",
    "\n",
    "# Calculate MAE\n",
    "mae_3 = mean_absolute_error(predictions_3, y_valid)\n",
    "\n",
    "# Uncomment to print MAE\n",
    "print(\"Mean Absolute Error:\" , mae_3)\n",
    "\n",
    "# Check your answer\n",
    "step_3.check()"
   ]
  },
  {
   "cell_type": "code",
   "execution_count": 12,
   "id": "55f4d39f",
   "metadata": {
    "execution": {
     "iopub.execute_input": "2024-07-12T08:22:13.194343Z",
     "iopub.status.busy": "2024-07-12T08:22:13.193958Z",
     "iopub.status.idle": "2024-07-12T08:22:13.198549Z",
     "shell.execute_reply": "2024-07-12T08:22:13.197501Z"
    },
    "papermill": {
     "duration": 0.01428,
     "end_time": "2024-07-12T08:22:13.200666",
     "exception": false,
     "start_time": "2024-07-12T08:22:13.186386",
     "status": "completed"
    },
    "tags": []
   },
   "outputs": [],
   "source": [
    "# Lines below will give you a hint or solution code\n",
    "#step_3.hint()\n",
    "#step_3.solution()"
   ]
  },
  {
   "cell_type": "markdown",
   "id": "342f337a",
   "metadata": {
    "papermill": {
     "duration": 0.006149,
     "end_time": "2024-07-12T08:22:13.213271",
     "exception": false,
     "start_time": "2024-07-12T08:22:13.207122",
     "status": "completed"
    },
    "tags": []
   },
   "source": [
    "# Keep going\n",
    "\n",
    "Continue to learn about **[data leakage](https://www.kaggle.com/alexisbcook/data-leakage)**.  This is an important issue for a data scientist to understand, and it has the potential to ruin your models in subtle and dangerous ways!"
   ]
  },
  {
   "cell_type": "markdown",
   "id": "7c2e3a64",
   "metadata": {
    "papermill": {
     "duration": 0.006476,
     "end_time": "2024-07-12T08:22:13.226028",
     "exception": false,
     "start_time": "2024-07-12T08:22:13.219552",
     "status": "completed"
    },
    "tags": []
   },
   "source": [
    "---\n",
    "\n",
    "\n",
    "\n",
    "\n",
    "*Have questions or comments? Visit the [course discussion forum](https://www.kaggle.com/learn/intermediate-machine-learning/discussion) to chat with other learners.*"
   ]
  }
 ],
 "metadata": {
  "kaggle": {
   "accelerator": "none",
   "dataSources": [
    {
     "databundleVersionId": 111096,
     "sourceId": 10211,
     "sourceType": "competition"
    }
   ],
   "isGpuEnabled": false,
   "isInternetEnabled": false,
   "language": "python",
   "sourceType": "notebook"
  },
  "kernelspec": {
   "display_name": "Python 3",
   "language": "python",
   "name": "python3"
  },
  "language_info": {
   "codemirror_mode": {
    "name": "ipython",
    "version": 3
   },
   "file_extension": ".py",
   "mimetype": "text/x-python",
   "name": "python",
   "nbconvert_exporter": "python",
   "pygments_lexer": "ipython3",
   "version": "3.10.13"
  },
  "papermill": {
   "default_parameters": {},
   "duration": 12.929659,
   "end_time": "2024-07-12T08:22:13.752478",
   "environment_variables": {},
   "exception": null,
   "input_path": "__notebook__.ipynb",
   "output_path": "__notebook__.ipynb",
   "parameters": {},
   "start_time": "2024-07-12T08:22:00.822819",
   "version": "2.5.0"
  }
 },
 "nbformat": 4,
 "nbformat_minor": 5
}
