{
 "cells": [
  {
   "cell_type": "markdown",
   "id": "27e43340",
   "metadata": {
    "papermill": {
     "duration": 0.007303,
     "end_time": "2024-07-02T09:03:49.431737",
     "exception": false,
     "start_time": "2024-07-02T09:03:49.424434",
     "status": "completed"
    },
    "tags": []
   },
   "source": [
    "**This notebook is an exercise in the [Introduction to Machine Learning](https://www.kaggle.com/learn/intro-to-machine-learning) course.  You can reference the tutorial at [this link](https://www.kaggle.com/dansbecker/model-validation).**\n",
    "\n",
    "---\n"
   ]
  },
  {
   "cell_type": "markdown",
   "id": "fef71041",
   "metadata": {
    "papermill": {
     "duration": 0.006254,
     "end_time": "2024-07-02T09:03:49.445179",
     "exception": false,
     "start_time": "2024-07-02T09:03:49.438925",
     "status": "completed"
    },
    "tags": []
   },
   "source": [
    "## Recap\n",
    "You've built a model. In this exercise you will test how good your model is.\n",
    "\n",
    "Run the cell below to set up your coding environment where the previous exercise left off."
   ]
  },
  {
   "cell_type": "code",
   "execution_count": 1,
   "id": "9f91d78b",
   "metadata": {
    "execution": {
     "iopub.execute_input": "2024-07-02T09:03:49.461264Z",
     "iopub.status.busy": "2024-07-02T09:03:49.460054Z",
     "iopub.status.idle": "2024-07-02T09:03:52.484679Z",
     "shell.execute_reply": "2024-07-02T09:03:52.482813Z"
    },
    "papermill": {
     "duration": 3.036712,
     "end_time": "2024-07-02T09:03:52.488495",
     "exception": false,
     "start_time": "2024-07-02T09:03:49.451783",
     "status": "completed"
    },
    "tags": []
   },
   "outputs": [
    {
     "name": "stdout",
     "output_type": "stream",
     "text": [
      "First in-sample predictions: [208500. 181500. 223500. 140000. 250000.]\n",
      "Actual target values for those homes: [208500, 181500, 223500, 140000, 250000]\n",
      "Setup Complete\n"
     ]
    }
   ],
   "source": [
    "# Code you have previously used to load data\n",
    "import pandas as pd\n",
    "from sklearn.tree import DecisionTreeRegressor\n",
    "\n",
    "# Path of the file to read\n",
    "iowa_file_path = '../input/home-data-for-ml-course/train.csv'\n",
    "\n",
    "home_data = pd.read_csv(iowa_file_path)\n",
    "y = home_data.SalePrice\n",
    "feature_columns = ['LotArea', 'YearBuilt', '1stFlrSF', '2ndFlrSF', 'FullBath', 'BedroomAbvGr', 'TotRmsAbvGrd']\n",
    "X = home_data[feature_columns]\n",
    "\n",
    "# Specify Model\n",
    "iowa_model = DecisionTreeRegressor()\n",
    "# Fit Model\n",
    "iowa_model.fit(X, y)\n",
    "\n",
    "print(\"First in-sample predictions:\", iowa_model.predict(X.head()))\n",
    "print(\"Actual target values for those homes:\", y.head().tolist())\n",
    "\n",
    "# Set up code checking\n",
    "from learntools.core import binder\n",
    "binder.bind(globals())\n",
    "from learntools.machine_learning.ex4 import *\n",
    "print(\"Setup Complete\")"
   ]
  },
  {
   "cell_type": "markdown",
   "id": "c88ba92c",
   "metadata": {
    "papermill": {
     "duration": 0.006416,
     "end_time": "2024-07-02T09:03:52.502068",
     "exception": false,
     "start_time": "2024-07-02T09:03:52.495652",
     "status": "completed"
    },
    "tags": []
   },
   "source": [
    "# Exercises\n",
    "\n",
    "## Step 1: Split Your Data\n",
    "Use the `train_test_split` function to split up your data.\n",
    "\n",
    "Give it the argument `random_state=1` so the `check` functions know what to expect when verifying your code.\n",
    "\n",
    "Recall, your features are loaded in the DataFrame **X** and your target is loaded in **y**.\n"
   ]
  },
  {
   "cell_type": "code",
   "execution_count": 2,
   "id": "e799277a",
   "metadata": {
    "execution": {
     "iopub.execute_input": "2024-07-02T09:03:52.518082Z",
     "iopub.status.busy": "2024-07-02T09:03:52.517536Z",
     "iopub.status.idle": "2024-07-02T09:03:52.677764Z",
     "shell.execute_reply": "2024-07-02T09:03:52.676475Z"
    },
    "papermill": {
     "duration": 0.171969,
     "end_time": "2024-07-02T09:03:52.680819",
     "exception": false,
     "start_time": "2024-07-02T09:03:52.508850",
     "status": "completed"
    },
    "tags": []
   },
   "outputs": [
    {
     "data": {
      "application/javascript": [
       "parent.postMessage({\"jupyterEvent\": \"custom.exercise_interaction\", \"data\": {\"outcomeType\": 1, \"valueTowardsCompletion\": 0.25, \"interactionType\": 1, \"questionType\": 2, \"questionId\": \"1_SplitData\", \"learnToolsVersion\": \"0.3.4\", \"failureMessage\": \"\", \"exceptionClass\": \"\", \"trace\": \"\"}}, \"*\")"
      ],
      "text/plain": [
       "<IPython.core.display.Javascript object>"
      ]
     },
     "metadata": {},
     "output_type": "display_data"
    },
    {
     "data": {
      "text/markdown": [
       "<span style=\"color:#33cc33\">Correct</span>"
      ],
      "text/plain": [
       "Correct"
      ]
     },
     "metadata": {},
     "output_type": "display_data"
    }
   ],
   "source": [
    "# Import the train_test_split function and uncomment\n",
    "from sklearn.model_selection import train_test_split \n",
    "\n",
    "# fill in and uncomment\n",
    "train_X, val_X, train_y, val_y = train_test_split(X, y, random_state=1)\n",
    "\n",
    "# Check your answer\n",
    "step_1.check()"
   ]
  },
  {
   "cell_type": "code",
   "execution_count": 3,
   "id": "38ce11fb",
   "metadata": {
    "execution": {
     "iopub.execute_input": "2024-07-02T09:03:52.698535Z",
     "iopub.status.busy": "2024-07-02T09:03:52.697426Z",
     "iopub.status.idle": "2024-07-02T09:03:52.703914Z",
     "shell.execute_reply": "2024-07-02T09:03:52.702442Z"
    },
    "papermill": {
     "duration": 0.018796,
     "end_time": "2024-07-02T09:03:52.707148",
     "exception": false,
     "start_time": "2024-07-02T09:03:52.688352",
     "status": "completed"
    },
    "tags": []
   },
   "outputs": [],
   "source": [
    "# The lines below will show you a hint or the solution.\n",
    "# step_1.hint() \n",
    "# step_1.solution()\n"
   ]
  },
  {
   "cell_type": "markdown",
   "id": "cb79b070",
   "metadata": {
    "papermill": {
     "duration": 0.007023,
     "end_time": "2024-07-02T09:03:52.721164",
     "exception": false,
     "start_time": "2024-07-02T09:03:52.714141",
     "status": "completed"
    },
    "tags": []
   },
   "source": [
    "## Step 2: Specify and Fit the Model\n",
    "\n",
    "Create a `DecisionTreeRegressor` model and fit it to the relevant data.\n",
    "Set `random_state` to 1 again when creating the model."
   ]
  },
  {
   "cell_type": "code",
   "execution_count": 4,
   "id": "d5927ea7",
   "metadata": {
    "execution": {
     "iopub.execute_input": "2024-07-02T09:03:52.737392Z",
     "iopub.status.busy": "2024-07-02T09:03:52.736956Z",
     "iopub.status.idle": "2024-07-02T09:03:52.770987Z",
     "shell.execute_reply": "2024-07-02T09:03:52.769490Z"
    },
    "papermill": {
     "duration": 0.04561,
     "end_time": "2024-07-02T09:03:52.774067",
     "exception": false,
     "start_time": "2024-07-02T09:03:52.728457",
     "status": "completed"
    },
    "tags": []
   },
   "outputs": [
    {
     "name": "stdout",
     "output_type": "stream",
     "text": [
      "[186500. 184000. 130000.  92000. 164500. 220000. 335000. 144152. 215000.\n",
      " 262000.]\n",
      "[186500. 184000. 130000.  92000. 164500. 220000. 335000. 144152. 215000.\n",
      " 262000.]\n"
     ]
    },
    {
     "data": {
      "application/javascript": [
       "parent.postMessage({\"jupyterEvent\": \"custom.exercise_interaction\", \"data\": {\"outcomeType\": 1, \"valueTowardsCompletion\": 0.25, \"interactionType\": 1, \"questionType\": 2, \"questionId\": \"2_FitModelWithTrain\", \"learnToolsVersion\": \"0.3.4\", \"failureMessage\": \"\", \"exceptionClass\": \"\", \"trace\": \"\"}}, \"*\")"
      ],
      "text/plain": [
       "<IPython.core.display.Javascript object>"
      ]
     },
     "metadata": {},
     "output_type": "display_data"
    },
    {
     "data": {
      "text/markdown": [
       "<span style=\"color:#33cc33\">Correct</span>"
      ],
      "text/plain": [
       "Correct"
      ]
     },
     "metadata": {},
     "output_type": "display_data"
    }
   ],
   "source": [
    "# You imported DecisionTreeRegressor in your last exercise\n",
    "# and that code has been copied to the setup code above. So, no need to\n",
    "# import it again\n",
    "\n",
    "# Specify the model\n",
    "iowa_model = DecisionTreeRegressor(random_state=1)\n",
    "\n",
    "# Fit iowa_model with the training data.\n",
    "iowa_model.fit(train_X, train_y)\n",
    "\n",
    "# Check your answer\n",
    "step_2.check()"
   ]
  },
  {
   "cell_type": "code",
   "execution_count": 5,
   "id": "2d692504",
   "metadata": {
    "execution": {
     "iopub.execute_input": "2024-07-02T09:03:52.792007Z",
     "iopub.status.busy": "2024-07-02T09:03:52.791482Z",
     "iopub.status.idle": "2024-07-02T09:03:52.797810Z",
     "shell.execute_reply": "2024-07-02T09:03:52.796355Z"
    },
    "papermill": {
     "duration": 0.01824,
     "end_time": "2024-07-02T09:03:52.800287",
     "exception": false,
     "start_time": "2024-07-02T09:03:52.782047",
     "status": "completed"
    },
    "tags": []
   },
   "outputs": [],
   "source": [
    "# step_2.hint()\n",
    "#step_2.solution()"
   ]
  },
  {
   "cell_type": "markdown",
   "id": "562a526f",
   "metadata": {
    "papermill": {
     "duration": 0.00798,
     "end_time": "2024-07-02T09:03:52.816729",
     "exception": false,
     "start_time": "2024-07-02T09:03:52.808749",
     "status": "completed"
    },
    "tags": []
   },
   "source": [
    "## Step 3: Make Predictions with Validation data\n"
   ]
  },
  {
   "cell_type": "code",
   "execution_count": 6,
   "id": "b6ca0a66",
   "metadata": {
    "execution": {
     "iopub.execute_input": "2024-07-02T09:03:52.834943Z",
     "iopub.status.busy": "2024-07-02T09:03:52.834401Z",
     "iopub.status.idle": "2024-07-02T09:03:52.852410Z",
     "shell.execute_reply": "2024-07-02T09:03:52.850641Z"
    },
    "papermill": {
     "duration": 0.031535,
     "end_time": "2024-07-02T09:03:52.856425",
     "exception": false,
     "start_time": "2024-07-02T09:03:52.824890",
     "status": "completed"
    },
    "tags": []
   },
   "outputs": [
    {
     "data": {
      "application/javascript": [
       "parent.postMessage({\"jupyterEvent\": \"custom.exercise_interaction\", \"data\": {\"outcomeType\": 1, \"valueTowardsCompletion\": 0.25, \"interactionType\": 1, \"questionType\": 2, \"questionId\": \"3_ValPreds\", \"learnToolsVersion\": \"0.3.4\", \"failureMessage\": \"\", \"exceptionClass\": \"\", \"trace\": \"\"}}, \"*\")"
      ],
      "text/plain": [
       "<IPython.core.display.Javascript object>"
      ]
     },
     "metadata": {},
     "output_type": "display_data"
    },
    {
     "data": {
      "text/markdown": [
       "<span style=\"color:#33cc33\">Correct</span>"
      ],
      "text/plain": [
       "Correct"
      ]
     },
     "metadata": {},
     "output_type": "display_data"
    }
   ],
   "source": [
    "# Predict with all validation observations\n",
    "val_predictions = iowa_model.predict(val_X)\n",
    "\n",
    "# Check your answer\n",
    "step_3.check()"
   ]
  },
  {
   "cell_type": "code",
   "execution_count": 7,
   "id": "3f95566a",
   "metadata": {
    "execution": {
     "iopub.execute_input": "2024-07-02T09:03:52.874350Z",
     "iopub.status.busy": "2024-07-02T09:03:52.873832Z",
     "iopub.status.idle": "2024-07-02T09:03:52.879929Z",
     "shell.execute_reply": "2024-07-02T09:03:52.878461Z"
    },
    "papermill": {
     "duration": 0.01818,
     "end_time": "2024-07-02T09:03:52.882500",
     "exception": false,
     "start_time": "2024-07-02T09:03:52.864320",
     "status": "completed"
    },
    "tags": []
   },
   "outputs": [],
   "source": [
    "# step_3.hint()\n",
    "#step_3.solution()"
   ]
  },
  {
   "cell_type": "markdown",
   "id": "fca6e72a",
   "metadata": {
    "papermill": {
     "duration": 0.008289,
     "end_time": "2024-07-02T09:03:52.899693",
     "exception": false,
     "start_time": "2024-07-02T09:03:52.891404",
     "status": "completed"
    },
    "tags": []
   },
   "source": [
    "Inspect your predictions and actual values from validation data."
   ]
  },
  {
   "cell_type": "code",
   "execution_count": 8,
   "id": "38d5bf73",
   "metadata": {
    "execution": {
     "iopub.execute_input": "2024-07-02T09:03:52.917482Z",
     "iopub.status.busy": "2024-07-02T09:03:52.916994Z",
     "iopub.status.idle": "2024-07-02T09:03:52.927884Z",
     "shell.execute_reply": "2024-07-02T09:03:52.926353Z"
    },
    "papermill": {
     "duration": 0.023273,
     "end_time": "2024-07-02T09:03:52.930760",
     "exception": false,
     "start_time": "2024-07-02T09:03:52.907487",
     "status": "completed"
    },
    "tags": []
   },
   "outputs": [
    {
     "name": "stdout",
     "output_type": "stream",
     "text": [
      "[186500. 184000. 130000.  92000. 164500.]\n",
      "[231500, 179500, 122000, 84500, 142000]\n"
     ]
    }
   ],
   "source": [
    "# print the top few validation predictions\n",
    "print(iowa_model.predict(val_X.head()))\n",
    "# print the top few actual prices from validation data\n",
    "print(val_y.head().tolist())"
   ]
  },
  {
   "cell_type": "markdown",
   "id": "518194d8",
   "metadata": {
    "papermill": {
     "duration": 0.008108,
     "end_time": "2024-07-02T09:03:52.946483",
     "exception": false,
     "start_time": "2024-07-02T09:03:52.938375",
     "status": "completed"
    },
    "tags": []
   },
   "source": [
    "What do you notice that is different from what you saw with in-sample predictions (which are printed after the top code cell in this page).\n",
    "\n",
    "Do you remember why validation predictions differ from in-sample (or training) predictions? This is an important idea from the last lesson.\n",
    "\n",
    "## Step 4: Calculate the Mean Absolute Error in Validation Data\n"
   ]
  },
  {
   "cell_type": "code",
   "execution_count": 9,
   "id": "7c7034ce",
   "metadata": {
    "execution": {
     "iopub.execute_input": "2024-07-02T09:03:52.965416Z",
     "iopub.status.busy": "2024-07-02T09:03:52.964411Z",
     "iopub.status.idle": "2024-07-02T09:03:52.979880Z",
     "shell.execute_reply": "2024-07-02T09:03:52.978155Z"
    },
    "papermill": {
     "duration": 0.028511,
     "end_time": "2024-07-02T09:03:52.983198",
     "exception": false,
     "start_time": "2024-07-02T09:03:52.954687",
     "status": "completed"
    },
    "tags": []
   },
   "outputs": [
    {
     "name": "stdout",
     "output_type": "stream",
     "text": [
      "29652.931506849316\n"
     ]
    },
    {
     "data": {
      "application/javascript": [
       "parent.postMessage({\"jupyterEvent\": \"custom.exercise_interaction\", \"data\": {\"outcomeType\": 1, \"valueTowardsCompletion\": 0.25, \"interactionType\": 1, \"questionType\": 1, \"questionId\": \"4_MAE\", \"learnToolsVersion\": \"0.3.4\", \"failureMessage\": \"\", \"exceptionClass\": \"\", \"trace\": \"\"}}, \"*\")"
      ],
      "text/plain": [
       "<IPython.core.display.Javascript object>"
      ]
     },
     "metadata": {},
     "output_type": "display_data"
    },
    {
     "data": {
      "text/markdown": [
       "<span style=\"color:#33cc33\">Correct</span>"
      ],
      "text/plain": [
       "Correct"
      ]
     },
     "metadata": {},
     "output_type": "display_data"
    }
   ],
   "source": [
    "from sklearn.metrics import mean_absolute_error\n",
    "val_mae = mean_absolute_error(val_y, val_predictions)\n",
    "\n",
    "# uncomment following line to see the validation_mae\n",
    "print(val_mae)\n",
    "\n",
    "# Check your answer\n",
    "step_4.check()"
   ]
  },
  {
   "cell_type": "code",
   "execution_count": 10,
   "id": "cafb6197",
   "metadata": {
    "execution": {
     "iopub.execute_input": "2024-07-02T09:03:53.002702Z",
     "iopub.status.busy": "2024-07-02T09:03:53.002137Z",
     "iopub.status.idle": "2024-07-02T09:03:53.008038Z",
     "shell.execute_reply": "2024-07-02T09:03:53.006456Z"
    },
    "papermill": {
     "duration": 0.018927,
     "end_time": "2024-07-02T09:03:53.010777",
     "exception": false,
     "start_time": "2024-07-02T09:03:52.991850",
     "status": "completed"
    },
    "tags": []
   },
   "outputs": [],
   "source": [
    "# step_4.hint()\n",
    "# step_4.solution()"
   ]
  },
  {
   "cell_type": "markdown",
   "id": "9f1eb968",
   "metadata": {
    "papermill": {
     "duration": 0.008211,
     "end_time": "2024-07-02T09:03:53.028680",
     "exception": false,
     "start_time": "2024-07-02T09:03:53.020469",
     "status": "completed"
    },
    "tags": []
   },
   "source": [
    "Is that MAE good?  There isn't a general rule for what values are good that applies across applications. But you'll see how to use (and improve) this number in the next step.\n",
    "\n",
    "# Keep Going\n",
    "\n",
    "You are ready for **[Underfitting and Overfitting](https://www.kaggle.com/dansbecker/underfitting-and-overfitting).**\n"
   ]
  },
  {
   "cell_type": "markdown",
   "id": "edffade2",
   "metadata": {
    "papermill": {
     "duration": 0.008189,
     "end_time": "2024-07-02T09:03:53.045460",
     "exception": false,
     "start_time": "2024-07-02T09:03:53.037271",
     "status": "completed"
    },
    "tags": []
   },
   "source": [
    "---\n",
    "\n",
    "\n",
    "\n",
    "\n",
    "*Have questions or comments? Visit the [course discussion forum](https://www.kaggle.com/learn/intro-to-machine-learning/discussion) to chat with other learners.*"
   ]
  }
 ],
 "metadata": {
  "kaggle": {
   "accelerator": "none",
   "dataSources": [
    {
     "databundleVersionId": 111096,
     "sourceId": 10211,
     "sourceType": "competition"
    },
    {
     "datasetId": 11167,
     "sourceId": 15520,
     "sourceType": "datasetVersion"
    },
    {
     "datasetId": 2709,
     "sourceId": 38454,
     "sourceType": "datasetVersion"
    }
   ],
   "isGpuEnabled": false,
   "isInternetEnabled": false,
   "language": "python",
   "sourceType": "notebook"
  },
  "kernelspec": {
   "display_name": "Python 3",
   "language": "python",
   "name": "python3"
  },
  "language_info": {
   "codemirror_mode": {
    "name": "ipython",
    "version": 3
   },
   "file_extension": ".py",
   "mimetype": "text/x-python",
   "name": "python",
   "nbconvert_exporter": "python",
   "pygments_lexer": "ipython3",
   "version": "3.10.13"
  },
  "papermill": {
   "default_parameters": {},
   "duration": 8.143205,
   "end_time": "2024-07-02T09:03:53.880376",
   "environment_variables": {},
   "exception": null,
   "input_path": "__notebook__.ipynb",
   "output_path": "__notebook__.ipynb",
   "parameters": {},
   "start_time": "2024-07-02T09:03:45.737171",
   "version": "2.5.0"
  }
 },
 "nbformat": 4,
 "nbformat_minor": 5
}
