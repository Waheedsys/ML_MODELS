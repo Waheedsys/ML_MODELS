{
 "cells": [
  {
   "cell_type": "markdown",
   "id": "a994fe75",
   "metadata": {
    "papermill": {
     "duration": 0.007531,
     "end_time": "2024-07-02T09:35:46.142219",
     "exception": false,
     "start_time": "2024-07-02T09:35:46.134688",
     "status": "completed"
    },
    "tags": []
   },
   "source": [
    "**This notebook is an exercise in the [Introduction to Machine Learning](https://www.kaggle.com/learn/intro-to-machine-learning) course.  You can reference the tutorial at [this link](https://www.kaggle.com/dansbecker/your-first-machine-learning-model).**\n",
    "\n",
    "---\n"
   ]
  },
  {
   "cell_type": "markdown",
   "id": "d901d2ae",
   "metadata": {
    "papermill": {
     "duration": 0.006827,
     "end_time": "2024-07-02T09:35:46.156873",
     "exception": false,
     "start_time": "2024-07-02T09:35:46.150046",
     "status": "completed"
    },
    "tags": []
   },
   "source": [
    "## Recap\n",
    "So far, you have loaded your data and reviewed it with the following code. Run this cell to set up your coding environment where the previous step left off."
   ]
  },
  {
   "cell_type": "code",
   "execution_count": 1,
   "id": "e4b0b19e",
   "metadata": {
    "execution": {
     "iopub.execute_input": "2024-07-02T09:35:46.172379Z",
     "iopub.status.busy": "2024-07-02T09:35:46.171983Z",
     "iopub.status.idle": "2024-07-02T09:35:48.402556Z",
     "shell.execute_reply": "2024-07-02T09:35:48.401238Z"
    },
    "papermill": {
     "duration": 2.241491,
     "end_time": "2024-07-02T09:35:48.405369",
     "exception": false,
     "start_time": "2024-07-02T09:35:46.163878",
     "status": "completed"
    },
    "tags": []
   },
   "outputs": [
    {
     "name": "stdout",
     "output_type": "stream",
     "text": [
      "Setup Complete\n"
     ]
    }
   ],
   "source": [
    "# Code you have previously used to load data\n",
    "import pandas as pd\n",
    "\n",
    "# Path of the file to read\n",
    "iowa_file_path = '../input/home-data-for-ml-course/train.csv'\n",
    "\n",
    "home_data = pd.read_csv(iowa_file_path)\n",
    "\n",
    "# Set up code checking\n",
    "from learntools.core import binder\n",
    "binder.bind(globals())\n",
    "from learntools.machine_learning.ex3 import *\n",
    "\n",
    "print(\"Setup Complete\")"
   ]
  },
  {
   "cell_type": "markdown",
   "id": "a4c19c4e",
   "metadata": {
    "papermill": {
     "duration": 0.006818,
     "end_time": "2024-07-02T09:35:48.419377",
     "exception": false,
     "start_time": "2024-07-02T09:35:48.412559",
     "status": "completed"
    },
    "tags": []
   },
   "source": [
    "# Exercises\n",
    "\n",
    "## Step 1: Specify Prediction Target\n",
    "Select the target variable, which corresponds to the sales price. Save this to a new variable called `y`. You'll need to print a list of the columns to find the name of the column you need.\n"
   ]
  },
  {
   "cell_type": "code",
   "execution_count": 2,
   "id": "ffbfe212",
   "metadata": {
    "execution": {
     "iopub.execute_input": "2024-07-02T09:35:48.435238Z",
     "iopub.status.busy": "2024-07-02T09:35:48.434829Z",
     "iopub.status.idle": "2024-07-02T09:35:48.442691Z",
     "shell.execute_reply": "2024-07-02T09:35:48.441563Z"
    },
    "papermill": {
     "duration": 0.018581,
     "end_time": "2024-07-02T09:35:48.445009",
     "exception": false,
     "start_time": "2024-07-02T09:35:48.426428",
     "status": "completed"
    },
    "tags": []
   },
   "outputs": [
    {
     "name": "stdout",
     "output_type": "stream",
     "text": [
      "Index(['Id', 'MSSubClass', 'MSZoning', 'LotFrontage', 'LotArea', 'Street',\n",
      "       'Alley', 'LotShape', 'LandContour', 'Utilities', 'LotConfig',\n",
      "       'LandSlope', 'Neighborhood', 'Condition1', 'Condition2', 'BldgType',\n",
      "       'HouseStyle', 'OverallQual', 'OverallCond', 'YearBuilt', 'YearRemodAdd',\n",
      "       'RoofStyle', 'RoofMatl', 'Exterior1st', 'Exterior2nd', 'MasVnrType',\n",
      "       'MasVnrArea', 'ExterQual', 'ExterCond', 'Foundation', 'BsmtQual',\n",
      "       'BsmtCond', 'BsmtExposure', 'BsmtFinType1', 'BsmtFinSF1',\n",
      "       'BsmtFinType2', 'BsmtFinSF2', 'BsmtUnfSF', 'TotalBsmtSF', 'Heating',\n",
      "       'HeatingQC', 'CentralAir', 'Electrical', '1stFlrSF', '2ndFlrSF',\n",
      "       'LowQualFinSF', 'GrLivArea', 'BsmtFullBath', 'BsmtHalfBath', 'FullBath',\n",
      "       'HalfBath', 'BedroomAbvGr', 'KitchenAbvGr', 'KitchenQual',\n",
      "       'TotRmsAbvGrd', 'Functional', 'Fireplaces', 'FireplaceQu', 'GarageType',\n",
      "       'GarageYrBlt', 'GarageFinish', 'GarageCars', 'GarageArea', 'GarageQual',\n",
      "       'GarageCond', 'PavedDrive', 'WoodDeckSF', 'OpenPorchSF',\n",
      "       'EnclosedPorch', '3SsnPorch', 'ScreenPorch', 'PoolArea', 'PoolQC',\n",
      "       'Fence', 'MiscFeature', 'MiscVal', 'MoSold', 'YrSold', 'SaleType',\n",
      "       'SaleCondition', 'SalePrice'],\n",
      "      dtype='object')\n"
     ]
    }
   ],
   "source": [
    "# print the list of columns in the dataset to find the name of the prediction target\n",
    "print(home_data.columns)"
   ]
  },
  {
   "cell_type": "code",
   "execution_count": 3,
   "id": "9000d1ed",
   "metadata": {
    "execution": {
     "iopub.execute_input": "2024-07-02T09:35:48.461888Z",
     "iopub.status.busy": "2024-07-02T09:35:48.461030Z",
     "iopub.status.idle": "2024-07-02T09:35:48.478607Z",
     "shell.execute_reply": "2024-07-02T09:35:48.477532Z"
    },
    "papermill": {
     "duration": 0.028509,
     "end_time": "2024-07-02T09:35:48.481030",
     "exception": false,
     "start_time": "2024-07-02T09:35:48.452521",
     "status": "completed"
    },
    "tags": []
   },
   "outputs": [
    {
     "data": {
      "application/javascript": [
       "parent.postMessage({\"jupyterEvent\": \"custom.exercise_interaction\", \"data\": {\"outcomeType\": 1, \"valueTowardsCompletion\": 0.25, \"interactionType\": 1, \"questionType\": 2, \"questionId\": \"1_SetTarget\", \"learnToolsVersion\": \"0.3.4\", \"failureMessage\": \"\", \"exceptionClass\": \"\", \"trace\": \"\"}}, \"*\")"
      ],
      "text/plain": [
       "<IPython.core.display.Javascript object>"
      ]
     },
     "metadata": {},
     "output_type": "display_data"
    },
    {
     "data": {
      "text/markdown": [
       "<span style=\"color:#33cc33\">Correct</span>"
      ],
      "text/plain": [
       "Correct"
      ]
     },
     "metadata": {},
     "output_type": "display_data"
    }
   ],
   "source": [
    "y = home_data.SalePrice\n",
    "\n",
    "# Check your answer\n",
    "step_1.check()"
   ]
  },
  {
   "cell_type": "code",
   "execution_count": 4,
   "id": "db8aad66",
   "metadata": {
    "execution": {
     "iopub.execute_input": "2024-07-02T09:35:48.498188Z",
     "iopub.status.busy": "2024-07-02T09:35:48.497383Z",
     "iopub.status.idle": "2024-07-02T09:35:48.502056Z",
     "shell.execute_reply": "2024-07-02T09:35:48.500961Z"
    },
    "papermill": {
     "duration": 0.01581,
     "end_time": "2024-07-02T09:35:48.504386",
     "exception": false,
     "start_time": "2024-07-02T09:35:48.488576",
     "status": "completed"
    },
    "tags": []
   },
   "outputs": [],
   "source": [
    "# The lines below will show you a hint or the solution.\n",
    "# step_1.hint() \n",
    "#step_1.solution()"
   ]
  },
  {
   "cell_type": "markdown",
   "id": "9d47187d",
   "metadata": {
    "papermill": {
     "duration": 0.007225,
     "end_time": "2024-07-02T09:35:48.519204",
     "exception": false,
     "start_time": "2024-07-02T09:35:48.511979",
     "status": "completed"
    },
    "tags": []
   },
   "source": [
    "## Step 2: Create X\n",
    "Now you will create a DataFrame called `X` holding the predictive features.\n",
    "\n",
    "Since you want only some columns from the original data, you'll first create a list with the names of the columns you want in `X`.\n",
    "\n",
    "You'll use just the following columns in the list (you can copy and paste the whole list to save some typing, though you'll still need to add quotes):\n",
    "  * LotArea\n",
    "  * YearBuilt\n",
    "  * 1stFlrSF\n",
    "  * 2ndFlrSF\n",
    "  * FullBath\n",
    "  * BedroomAbvGr\n",
    "  * TotRmsAbvGrd\n",
    "\n",
    "After you've created that list of features, use it to create the DataFrame that you'll use to fit the model."
   ]
  },
  {
   "cell_type": "code",
   "execution_count": 5,
   "id": "0c13376c",
   "metadata": {
    "execution": {
     "iopub.execute_input": "2024-07-02T09:35:48.536152Z",
     "iopub.status.busy": "2024-07-02T09:35:48.535715Z",
     "iopub.status.idle": "2024-07-02T09:35:48.550176Z",
     "shell.execute_reply": "2024-07-02T09:35:48.549066Z"
    },
    "papermill": {
     "duration": 0.025725,
     "end_time": "2024-07-02T09:35:48.552681",
     "exception": false,
     "start_time": "2024-07-02T09:35:48.526956",
     "status": "completed"
    },
    "tags": []
   },
   "outputs": [
    {
     "data": {
      "application/javascript": [
       "parent.postMessage({\"jupyterEvent\": \"custom.exercise_interaction\", \"data\": {\"outcomeType\": 1, \"valueTowardsCompletion\": 0.25, \"interactionType\": 1, \"questionType\": 2, \"questionId\": \"2_SelectPredictionData\", \"learnToolsVersion\": \"0.3.4\", \"failureMessage\": \"\", \"exceptionClass\": \"\", \"trace\": \"\"}}, \"*\")"
      ],
      "text/plain": [
       "<IPython.core.display.Javascript object>"
      ]
     },
     "metadata": {},
     "output_type": "display_data"
    },
    {
     "data": {
      "text/markdown": [
       "<span style=\"color:#33cc33\">Correct</span>"
      ],
      "text/plain": [
       "Correct"
      ]
     },
     "metadata": {},
     "output_type": "display_data"
    }
   ],
   "source": [
    "# Create the list of features below\n",
    "feature_names =[\"LotArea\",\n",
    "\"YearBuilt\",\n",
    "\"1stFlrSF\",\n",
    "\"2ndFlrSF\",\n",
    "\"FullBath\",\n",
    "\"BedroomAbvGr\",\n",
    "\"TotRmsAbvGrd\"]\n",
    "\n",
    "# Select data corresponding to features in feature_names\n",
    "X = home_data[feature_names]\n",
    "\n",
    "# Check your answer\n",
    "step_2.check()"
   ]
  },
  {
   "cell_type": "code",
   "execution_count": 6,
   "id": "87c27d13",
   "metadata": {
    "execution": {
     "iopub.execute_input": "2024-07-02T09:35:48.570550Z",
     "iopub.status.busy": "2024-07-02T09:35:48.570118Z",
     "iopub.status.idle": "2024-07-02T09:35:48.574927Z",
     "shell.execute_reply": "2024-07-02T09:35:48.573863Z"
    },
    "papermill": {
     "duration": 0.016747,
     "end_time": "2024-07-02T09:35:48.577397",
     "exception": false,
     "start_time": "2024-07-02T09:35:48.560650",
     "status": "completed"
    },
    "tags": []
   },
   "outputs": [],
   "source": [
    "#step_2.hint()\n",
    "#step_2.solution()"
   ]
  },
  {
   "cell_type": "markdown",
   "id": "d5324aa3",
   "metadata": {
    "papermill": {
     "duration": 0.007546,
     "end_time": "2024-07-02T09:35:48.592872",
     "exception": false,
     "start_time": "2024-07-02T09:35:48.585326",
     "status": "completed"
    },
    "tags": []
   },
   "source": [
    "## Review Data\n",
    "Before building a model, take a quick look at **X** to verify it looks sensible"
   ]
  },
  {
   "cell_type": "code",
   "execution_count": 7,
   "id": "a52acd6c",
   "metadata": {
    "execution": {
     "iopub.execute_input": "2024-07-02T09:35:48.610344Z",
     "iopub.status.busy": "2024-07-02T09:35:48.609933Z",
     "iopub.status.idle": "2024-07-02T09:35:48.730167Z",
     "shell.execute_reply": "2024-07-02T09:35:48.729071Z"
    },
    "papermill": {
     "duration": 0.132177,
     "end_time": "2024-07-02T09:35:48.733061",
     "exception": false,
     "start_time": "2024-07-02T09:35:48.600884",
     "status": "completed"
    },
    "tags": []
   },
   "outputs": [
    {
     "name": "stdout",
     "output_type": "stream",
     "text": [
      "             LotArea    YearBuilt     1stFlrSF     2ndFlrSF     FullBath  \\\n",
      "count    1460.000000  1460.000000  1460.000000  1460.000000  1460.000000   \n",
      "mean    10516.828082  1971.267808  1162.626712   346.992466     1.565068   \n",
      "std      9981.264932    30.202904   386.587738   436.528436     0.550916   \n",
      "min      1300.000000  1872.000000   334.000000     0.000000     0.000000   \n",
      "25%      7553.500000  1954.000000   882.000000     0.000000     1.000000   \n",
      "50%      9478.500000  1973.000000  1087.000000     0.000000     2.000000   \n",
      "75%     11601.500000  2000.000000  1391.250000   728.000000     2.000000   \n",
      "max    215245.000000  2010.000000  4692.000000  2065.000000     3.000000   \n",
      "\n",
      "       BedroomAbvGr  TotRmsAbvGrd  \n",
      "count   1460.000000   1460.000000  \n",
      "mean       2.866438      6.517808  \n",
      "std        0.815778      1.625393  \n",
      "min        0.000000      2.000000  \n",
      "25%        2.000000      5.000000  \n",
      "50%        3.000000      6.000000  \n",
      "75%        3.000000      7.000000  \n",
      "max        8.000000     14.000000  \n",
      "   LotArea  YearBuilt  1stFlrSF  2ndFlrSF  FullBath  BedroomAbvGr  \\\n",
      "0     8450       2003       856       854         2             3   \n",
      "1     9600       1976      1262         0         2             3   \n",
      "2    11250       2001       920       866         2             3   \n",
      "3     9550       1915       961       756         1             3   \n",
      "4    14260       2000      1145      1053         2             4   \n",
      "\n",
      "   TotRmsAbvGrd  \n",
      "0             8  \n",
      "1             6  \n",
      "2             6  \n",
      "3             7  \n",
      "4             9  \n"
     ]
    }
   ],
   "source": [
    "# Review data\n",
    "# print description or statistics from X\n",
    "print(X.describe())\n",
    "\n",
    "# print the top few lines\n",
    "print(X.head())"
   ]
  },
  {
   "cell_type": "markdown",
   "id": "b479ab1c",
   "metadata": {
    "papermill": {
     "duration": 0.007698,
     "end_time": "2024-07-02T09:35:48.748881",
     "exception": false,
     "start_time": "2024-07-02T09:35:48.741183",
     "status": "completed"
    },
    "tags": []
   },
   "source": [
    "## Step 3: Specify and Fit Model\n",
    "Create a `DecisionTreeRegressor` and save it iowa_model. Ensure you've done the relevant import from sklearn to run this command.\n",
    "\n",
    "Then fit the model you just created using the data in `X` and `y` that you saved above."
   ]
  },
  {
   "cell_type": "code",
   "execution_count": 8,
   "id": "7a511ee3",
   "metadata": {
    "execution": {
     "iopub.execute_input": "2024-07-02T09:35:48.768054Z",
     "iopub.status.busy": "2024-07-02T09:35:48.767118Z",
     "iopub.status.idle": "2024-07-02T09:35:48.787995Z",
     "shell.execute_reply": "2024-07-02T09:35:48.786908Z"
    },
    "papermill": {
     "duration": 0.033834,
     "end_time": "2024-07-02T09:35:48.790647",
     "exception": false,
     "start_time": "2024-07-02T09:35:48.756813",
     "status": "completed"
    },
    "tags": []
   },
   "outputs": [
    {
     "data": {
      "application/javascript": [
       "parent.postMessage({\"jupyterEvent\": \"custom.exercise_interaction\", \"data\": {\"outcomeType\": 1, \"valueTowardsCompletion\": 0.25, \"interactionType\": 1, \"questionType\": 2, \"questionId\": \"3_CreateModel\", \"learnToolsVersion\": \"0.3.4\", \"failureMessage\": \"\", \"exceptionClass\": \"\", \"trace\": \"\"}}, \"*\")"
      ],
      "text/plain": [
       "<IPython.core.display.Javascript object>"
      ]
     },
     "metadata": {},
     "output_type": "display_data"
    },
    {
     "data": {
      "text/markdown": [
       "<span style=\"color:#33cc33\">Correct</span>"
      ],
      "text/plain": [
       "Correct"
      ]
     },
     "metadata": {},
     "output_type": "display_data"
    }
   ],
   "source": [
    "from sklearn.tree import DecisionTreeRegressor\n",
    "#specify the model. \n",
    "#For model reproducibility, set a numeric value for random_state when specifying the model\n",
    "iowa_model = DecisionTreeRegressor(random_state=0)\n",
    "\n",
    "# Fit the model\n",
    "iowa_model.fit(X, y)\n",
    "\n",
    "# Check your answer\n",
    "step_3.check()"
   ]
  },
  {
   "cell_type": "code",
   "execution_count": 9,
   "id": "780f352e",
   "metadata": {
    "collapsed": true,
    "execution": {
     "iopub.execute_input": "2024-07-02T09:35:48.809372Z",
     "iopub.status.busy": "2024-07-02T09:35:48.808997Z",
     "iopub.status.idle": "2024-07-02T09:35:48.813825Z",
     "shell.execute_reply": "2024-07-02T09:35:48.812746Z"
    },
    "jupyter": {
     "outputs_hidden": true
    },
    "papermill": {
     "duration": 0.017192,
     "end_time": "2024-07-02T09:35:48.816420",
     "exception": false,
     "start_time": "2024-07-02T09:35:48.799228",
     "status": "completed"
    },
    "tags": []
   },
   "outputs": [],
   "source": [
    "# step_3.hint()\n",
    "# step_3.solution()"
   ]
  },
  {
   "cell_type": "markdown",
   "id": "2bfd1ae4",
   "metadata": {
    "papermill": {
     "duration": 0.008123,
     "end_time": "2024-07-02T09:35:48.833228",
     "exception": false,
     "start_time": "2024-07-02T09:35:48.825105",
     "status": "completed"
    },
    "tags": []
   },
   "source": [
    "## Step 4: Make Predictions\n",
    "Make predictions with the model's `predict` command using `X` as the data. Save the results to a variable called `predictions`."
   ]
  },
  {
   "cell_type": "code",
   "execution_count": 10,
   "id": "5bdd0959",
   "metadata": {
    "execution": {
     "iopub.execute_input": "2024-07-02T09:35:48.852257Z",
     "iopub.status.busy": "2024-07-02T09:35:48.851871Z",
     "iopub.status.idle": "2024-07-02T09:35:48.867069Z",
     "shell.execute_reply": "2024-07-02T09:35:48.865933Z"
    },
    "papermill": {
     "duration": 0.027525,
     "end_time": "2024-07-02T09:35:48.869695",
     "exception": false,
     "start_time": "2024-07-02T09:35:48.842170",
     "status": "completed"
    },
    "tags": []
   },
   "outputs": [
    {
     "name": "stdout",
     "output_type": "stream",
     "text": [
      "[208500. 181500. 223500. ... 266500. 142125. 147500.]\n"
     ]
    },
    {
     "data": {
      "application/javascript": [
       "parent.postMessage({\"jupyterEvent\": \"custom.exercise_interaction\", \"data\": {\"outcomeType\": 1, \"valueTowardsCompletion\": 0.25, \"interactionType\": 1, \"questionType\": 2, \"questionId\": \"4_MakePredictions\", \"learnToolsVersion\": \"0.3.4\", \"failureMessage\": \"\", \"exceptionClass\": \"\", \"trace\": \"\"}}, \"*\")"
      ],
      "text/plain": [
       "<IPython.core.display.Javascript object>"
      ]
     },
     "metadata": {},
     "output_type": "display_data"
    },
    {
     "data": {
      "text/markdown": [
       "<span style=\"color:#33cc33\">Correct</span>"
      ],
      "text/plain": [
       "Correct"
      ]
     },
     "metadata": {},
     "output_type": "display_data"
    }
   ],
   "source": [
    "predictions = iowa_model.predict(X)\n",
    "print(predictions)\n",
    "\n",
    "# Check your answer\n",
    "step_4.check()"
   ]
  },
  {
   "cell_type": "code",
   "execution_count": 11,
   "id": "7ba89c5f",
   "metadata": {
    "collapsed": true,
    "execution": {
     "iopub.execute_input": "2024-07-02T09:35:48.889023Z",
     "iopub.status.busy": "2024-07-02T09:35:48.888618Z",
     "iopub.status.idle": "2024-07-02T09:35:48.893405Z",
     "shell.execute_reply": "2024-07-02T09:35:48.892100Z"
    },
    "jupyter": {
     "outputs_hidden": true
    },
    "papermill": {
     "duration": 0.017259,
     "end_time": "2024-07-02T09:35:48.895723",
     "exception": false,
     "start_time": "2024-07-02T09:35:48.878464",
     "status": "completed"
    },
    "tags": []
   },
   "outputs": [],
   "source": [
    "# step_4.hint()\n",
    "# step_4.solution()"
   ]
  },
  {
   "cell_type": "markdown",
   "id": "d0845d68",
   "metadata": {
    "papermill": {
     "duration": 0.008731,
     "end_time": "2024-07-02T09:35:48.913737",
     "exception": false,
     "start_time": "2024-07-02T09:35:48.905006",
     "status": "completed"
    },
    "tags": []
   },
   "source": [
    "## Think About Your Results\n",
    "\n",
    "Use the `head` method to compare the top few predictions to the actual home values (in `y`) for those same homes. Anything surprising?\n"
   ]
  },
  {
   "cell_type": "code",
   "execution_count": 12,
   "id": "55033cea",
   "metadata": {
    "execution": {
     "iopub.execute_input": "2024-07-02T09:35:48.933643Z",
     "iopub.status.busy": "2024-07-02T09:35:48.932598Z",
     "iopub.status.idle": "2024-07-02T09:35:48.939141Z",
     "shell.execute_reply": "2024-07-02T09:35:48.938047Z"
    },
    "papermill": {
     "duration": 0.019346,
     "end_time": "2024-07-02T09:35:48.941842",
     "exception": false,
     "start_time": "2024-07-02T09:35:48.922496",
     "status": "completed"
    },
    "tags": []
   },
   "outputs": [
    {
     "name": "stdout",
     "output_type": "stream",
     "text": [
      "[208500, 181500, 223500, 140000, 250000, 143000, 307000, 200000, 129900]\n",
      "[208500. 181500. 223500. ... 266500. 142125. 147500.]\n"
     ]
    }
   ],
   "source": [
    "# You can write code in this cell\n",
    "print(y.tolist()[:9])\n",
    "print(predictions)"
   ]
  },
  {
   "cell_type": "markdown",
   "id": "5b5e6883",
   "metadata": {
    "papermill": {
     "duration": 0.008745,
     "end_time": "2024-07-02T09:35:48.959660",
     "exception": false,
     "start_time": "2024-07-02T09:35:48.950915",
     "status": "completed"
    },
    "tags": []
   },
   "source": [
    "It's natural to ask how accurate the model's predictions will be and how you can improve that. That will be you're next step.\n",
    "\n",
    "# Keep Going\n",
    "\n",
    "You are ready for **[Model Validation](https://www.kaggle.com/dansbecker/model-validation).**\n"
   ]
  },
  {
   "cell_type": "markdown",
   "id": "71bdf55b",
   "metadata": {
    "papermill": {
     "duration": 0.008651,
     "end_time": "2024-07-02T09:35:48.977357",
     "exception": false,
     "start_time": "2024-07-02T09:35:48.968706",
     "status": "completed"
    },
    "tags": []
   },
   "source": [
    "---\n",
    "\n",
    "\n",
    "\n",
    "\n",
    "*Have questions or comments? Visit the [course discussion forum](https://www.kaggle.com/learn/intro-to-machine-learning/discussion) to chat with other learners.*"
   ]
  }
 ],
 "metadata": {
  "kaggle": {
   "accelerator": "none",
   "dataSources": [
    {
     "databundleVersionId": 111096,
     "sourceId": 10211,
     "sourceType": "competition"
    },
    {
     "datasetId": 11167,
     "sourceId": 15520,
     "sourceType": "datasetVersion"
    },
    {
     "datasetId": 2709,
     "sourceId": 38454,
     "sourceType": "datasetVersion"
    }
   ],
   "isGpuEnabled": false,
   "isInternetEnabled": false,
   "language": "python",
   "sourceType": "notebook"
  },
  "kernelspec": {
   "display_name": "Python 3",
   "language": "python",
   "name": "python3"
  },
  "language_info": {
   "codemirror_mode": {
    "name": "ipython",
    "version": 3
   },
   "file_extension": ".py",
   "mimetype": "text/x-python",
   "name": "python",
   "nbconvert_exporter": "python",
   "pygments_lexer": "ipython3",
   "version": "3.10.13"
  },
  "papermill": {
   "default_parameters": {},
   "duration": 6.450874,
   "end_time": "2024-07-02T09:35:49.607239",
   "environment_variables": {},
   "exception": null,
   "input_path": "__notebook__.ipynb",
   "output_path": "__notebook__.ipynb",
   "parameters": {},
   "start_time": "2024-07-02T09:35:43.156365",
   "version": "2.5.0"
  }
 },
 "nbformat": 4,
 "nbformat_minor": 5
}
